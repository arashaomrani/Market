{
 "cells": [
  {
   "cell_type": "code",
   "execution_count": 4,
   "metadata": {},
   "outputs": [
    {
     "data": {
      "text/html": [
       "<script>requirejs.config({paths: { 'plotly': ['https://cdn.plot.ly/plotly-latest.min']},});if(!window.Plotly) {{require(['plotly'],function(plotly) {window.Plotly=plotly;});}}</script>"
      ],
      "text/vnd.plotly.v1+html": [
       "<script>requirejs.config({paths: { 'plotly': ['https://cdn.plot.ly/plotly-latest.min']},});if(!window.Plotly) {{require(['plotly'],function(plotly) {window.Plotly=plotly;});}}</script>"
      ]
     },
     "metadata": {},
     "output_type": "display_data"
    }
   ],
   "source": [
    "from math import sqrt\n",
    "from numpy import concatenate\n",
    "from matplotlib import pyplot\n",
    "import pandas as pd\n",
    "from datetime import datetime\n",
    "from sklearn.preprocessing import MinMaxScaler, StandardScaler\n",
    "from sklearn.preprocessing import normalize\n",
    "from sklearn.preprocessing import LabelEncoder\n",
    "from sklearn.metrics import mean_squared_error\n",
    "from keras.models import Sequential\n",
    "from keras.layers import Dense\n",
    "from keras import optimizers\n",
    "from keras.callbacks import ReduceLROnPlateau\n",
    "from keras.layers import Add, LSTM, Activation, Flatten, Dropout, SimpleRNN, Bidirectional, Conv1D, GRU, Input, BatchNormalization\n",
    "from keras.models import Model\n",
    "import plotly.offline as py\n",
    "import plotly.graph_objs as go\n",
    "import numpy as np\n",
    "import seaborn as sns\n",
    "py.init_notebook_mode(connected=True)\n",
    "from googlefinance.client import get_price_data, get_prices_data, get_prices_time_data\n",
    "import fix_yahoo_finance as yf\n",
    "from keras.preprocessing.sequence import TimeseriesGenerator\n",
    "from sklearn.model_selection import train_test_split\n",
    "%matplotlib inline"
   ]
  },
  {
   "cell_type": "code",
   "execution_count": 7,
   "metadata": {
    "collapsed": true
   },
   "outputs": [
    {
     "name": "stdout",
     "output_type": "stream",
     "text": [
      "[*********************100%***********************]  1 of 1 downloaded\n",
      "(179, 20, 8) (179,) (1, 20, 8) (1,)\n"
     ]
    },
    {
     "name": "stderr",
     "output_type": "stream",
     "text": [
      "C:\\Users\\aalahgholipour160413\\AppData\\Local\\Continuum\\anaconda3\\lib\\site-packages\\ipykernel_launcher.py:22: SettingWithCopyWarning:\n",
      "\n",
      "\n",
      "A value is trying to be set on a copy of a slice from a DataFrame\n",
      "\n",
      "See the caveats in the documentation: http://pandas.pydata.org/pandas-docs/stable/indexing.html#indexing-view-versus-copy\n",
      "\n"
     ]
    },
    {
     "name": "stdout",
     "output_type": "stream",
     "text": [
      "[*********************100%***********************]  1 of 1 downloaded\n",
      "(179, 20, 8) (179,) (1, 20, 8) (1,)\n",
      "[*********************100%***********************]  1 of 1 downloaded\n",
      "(179, 20, 8) (179,) (1, 20, 8) (1,)\n",
      "[*********************100%***********************]  1 of 1 downloaded\n",
      "(179, 20, 8) (179,) (1, 20, 8) (1,)\n",
      "[*********************100%***********************]  1 of 1 downloaded\n",
      "(179, 20, 8) (179,) (1, 20, 8) (1,)\n",
      "[*********************100%***********************]  1 of 1 downloaded\n",
      "(179, 20, 8) (179,) (1, 20, 8) (1,)\n",
      "[*********************100%***********************]  1 of 1 downloaded\n",
      "(179, 20, 8) (179,) (1, 20, 8) (1,)\n",
      "[*********************100%***********************]  1 of 1 downloaded\n",
      "(179, 20, 8) (179,) (1, 20, 8) (1,)\n",
      "[*********************100%***********************]  1 of 1 downloaded\n",
      "(179, 20, 8) (179,) (1, 20, 8) (1,)\n",
      "[*********************100%***********************]  1 of 1 downloaded\n",
      "(179, 20, 8) (179,) (1, 20, 8) (1,)\n",
      "[*********************100%***********************]  1 of 1 downloaded\n",
      "(179, 20, 8) (179,) (1, 20, 8) (1,)\n"
     ]
    }
   ],
   "source": [
    "stocks=['OI','NI','UPS','HSIC','CCE','IBM','MAS','EFX','AAPL','MAC','WDC']\n",
    "df=pd.DataFrame()\n",
    "train_X=np.empty((0,20,8))\n",
    "test_X=np.empty((0,20,8))\n",
    "train_y=np.empty((0))\n",
    "test_y=np.empty((0))\n",
    "for Stock in stocks:\n",
    "    param = {\n",
    "        'q': Stock, # Stock symbol (ex: \"AAPL\")\n",
    "        'i': \"86400\", # Interval size in seconds (\"86400\" = 1 day intervals)\n",
    "        # Stock exchange symbol on which stock is traded (ex: \"NASD\")\n",
    "         'p':'5Y'# Period (Ex: \"1Y\" = 1 year)\n",
    "    }\n",
    "    data = yf.download(Stock,'2001-06-27')\n",
    "    data['Close'].replace(0, np.nan, inplace=True)\n",
    "    data['Close'].fillna(method='ffill', inplace=True)\n",
    "    values = data[['Open'] + ['High'] + ['Low'] + ['Close']]\n",
    "    values.insert(2,'Volume',data['Volume'])#.rolling(window=50).mean())\n",
    "    values.insert(3,'MA50',data['Close'].rolling(window=50).mean())\n",
    "    values.insert(4,'MA150',data['Close'].rolling(window=150).mean())\n",
    "    values.insert(5, 'EMA20', data['Close'].ewm(span=20, adjust=False).mean())\n",
    "    values.dropna(inplace=True)\n",
    "    values = values.astype('float32')\n",
    "    values = values.values \n",
    "    scaler = MinMaxScaler(feature_range=(0, 1))\n",
    "    scaler.fit(values)\n",
    "    scaled = scaler.transform(values)\n",
    "    data_gen = TimeseriesGenerator(scaled, scaled[:,-1],\n",
    "                               length=20, sampling_rate=1,\n",
    "                               stride=20, batch_size=len(scaled))\n",
    "    X, y = data_gen[0]\n",
    "    trainX, testX, trainy, testy = train_test_split(X[:180], y[:180], test_size=0.001, random_state=42, shuffle=True)\n",
    "    print(trainX.shape, trainy.shape, testX.shape, testy.shape)\n",
    "    train_X = np.append(train_X,trainX, axis=0)\n",
    "    test_X = np.append(test_X,testX, axis=0)\n",
    "    train_y = np.append(train_y,trainy, axis=0)\n",
    "    test_y = np.append(test_y,testy, axis=0)\n",
    "    #df = df.append(scaled, ignore_index=True)\n",
    "    #print(df.shape)\n",
    "#df.to_csv('total'+'.csv')\n",
    "#df.head()"
   ]
  },
  {
   "cell_type": "code",
   "execution_count": 8,
   "metadata": {},
   "outputs": [
    {
     "data": {
      "text/plain": [
       "(1969, 20, 8)"
      ]
     },
     "execution_count": 8,
     "metadata": {},
     "output_type": "execute_result"
    }
   ],
   "source": [
    "train_X.shape"
   ]
  },
  {
   "cell_type": "code",
   "execution_count": 11,
   "metadata": {},
   "outputs": [],
   "source": [
    "from keras.callbacks import ReduceLROnPlateau\n",
    "def tcn(h,filters=400, kernel_size=5, padding='causal', activation='relu', dilation_rate=1):\n",
    "    #main = BatchNormalization()(h)\n",
    "    main = h\n",
    "    for i in range(2):\n",
    "        main = Conv1D(filters=filters,kernel_size=kernel_size,padding=padding, dilation_rate=dilation_rate)(main)\n",
    "        #main = BatchNormalization()(main)\n",
    "        main = Activation('relu')(main)\n",
    "        main = Dropout(0.2)(main)\n",
    "    side_path = Conv1D(filters=filters,kernel_size=1, padding='same')(h)\n",
    "    #side_path = BatchNormalization()(side_path)\n",
    "    return Add()([main,side_path])\n",
    "\n",
    "Inp = Input(shape=(20,8))\n",
    "inp = Inp\n",
    "D = [1,1,2]\n",
    "for i in range(1):\n",
    "    inp=tcn(inp,dilation_rate=D[i])\n",
    "    #inp = BatchNormalization()(inp)\n",
    "    #inp = Activation('relu')(inp)\n",
    "inp=Flatten()(inp)\n",
    "out=Dense(1)(inp)\n",
    "model = Model(Inp,out)\n",
    "ad = optimizers.Adam(lr=0.0002)\n",
    "reduce_lr = ReduceLROnPlateau(monitor='val_loss', factor=0.1,\n",
    "                              patience=5, min_lr=1e-8)\n",
    "model.compile(loss='mae', optimizer=ad)\n",
    "history = model.fit(train_X, train_y, epochs=500, batch_size=100, validation_split=0.1, verbose=0, shuffle=True)\n"
   ]
  },
  {
   "cell_type": "code",
   "execution_count": 12,
   "metadata": {},
   "outputs": [
    {
     "data": {
      "image/png": "[encoded data removed]",
      "text/plain": [
       "<Figure size 432x288 with 1 Axes>"
      ]
     },
     "metadata": {},
     "output_type": "display_data"
    }
   ],
   "source": [
    "pyplot.plot(history.history['loss'], label='multi_train')\n",
    "pyplot.plot(history.history['val_loss'], label='multi_test')\n",
    "pyplot.legend()\n",
    "pyplot.yscale('log')\n",
    "pyplot.show()"
   ]
  },
  {
   "cell_type": "code",
   "execution_count": 13,
   "metadata": {},
   "outputs": [
    {
     "name": "stdout",
     "output_type": "stream",
     "text": [
      "[*********************100%***********************]  1 of 1 downloaded\n"
     ]
    },
    {
     "name": "stderr",
     "output_type": "stream",
     "text": [
      "C:\\Users\\aalahgholipour160413\\AppData\\Local\\Continuum\\anaconda3\\lib\\site-packages\\ipykernel_launcher.py:16: SettingWithCopyWarning:\n",
      "\n",
      "\n",
      "A value is trying to be set on a copy of a slice from a DataFrame\n",
      "\n",
      "See the caveats in the documentation: http://pandas.pydata.org/pandas-docs/stable/indexing.html#indexing-view-versus-copy\n",
      "\n"
     ]
    },
    {
     "data": {
      "text/plain": [
       "0.8461538461538461"
      ]
     },
     "execution_count": 13,
     "metadata": {},
     "output_type": "execute_result"
    }
   ],
   "source": [
    "stock='NI'\n",
    "param = {\n",
    "    'q': Stock, # Stock symbol (ex: \"AAPL\")\n",
    "    'i': \"86400\", # Interval size in seconds (\"86400\" = 1 day intervals)\n",
    "    # Stock exchange symbol on which stock is traded (ex: \"NASD\")\n",
    "     'p':'5Y'# Period (Ex: \"1Y\" = 1 year)\n",
    "}\n",
    "data = yf.download(Stock,'2001-06-27')\n",
    "data['Close'].replace(0, np.nan, inplace=True)\n",
    "data['Close'].fillna(method='ffill', inplace=True)\n",
    "values = data[['Open'] + ['High'] + ['Low'] + ['Close']]\n",
    "values.insert(2,'Volume',data['Volume'])#.rolling(window=50).mean())\n",
    "values.insert(3,'MA50',data['Close'].rolling(window=50).mean())\n",
    "values.insert(4,'MA150',data['Close'].rolling(window=150).mean())\n",
    "values.insert(5, 'EMA20', data['Close'].ewm(span=20, adjust=False).mean())\n",
    "values.dropna(inplace=True)\n",
    "values = values.astype('float32')\n",
    "values = values.values \n",
    "scaler = MinMaxScaler(feature_range=(0, 1))\n",
    "scaler.fit(values)\n",
    "scaled = scaler.transform(values)\n",
    "data_gen = TimeseriesGenerator(scaled, scaled[:,-1],\n",
    "                           length=20, sampling_rate=1,\n",
    "                           stride=20, batch_size=len(scaled))\n",
    "X, y = data_gen[0]\n",
    "trainX, testX, trainy, testy = train_test_split(X[:180], y[:180], test_size=0.001, random_state=42, shuffle=True)\n",
    "pred = model.predict([X[180:]])\n",
    "diff1=np.concatenate((np.ediff1d(y[180:]).reshape(len(y[180:])-1,1),np.ediff1d(pred[:,0]).reshape(len(pred[:])-1,1)),axis=1)\n",
    "mul = np.multiply(diff1[:,0],diff1[:,1])\n",
    "len(mul[mul>=0])/len(mul)"
   ]
  },
  {
   "cell_type": "code",
   "execution_count": null,
   "metadata": {},
   "outputs": [],
   "source": []
  }
 ],
 "metadata": {
  "kernelspec": {
   "display_name": "Python 3",
   "language": "python",
   "name": "python3"
  },
  "language_info": {
   "codemirror_mode": {
    "name": "ipython",
    "version": 3
   },
   "file_extension": ".py",
   "mimetype": "text/x-python",
   "name": "python",
   "nbconvert_exporter": "python",
   "pygments_lexer": "ipython3",
   "version": "3.6.5"
  }
 },
 "nbformat": 4,
 "nbformat_minor": 2
}
