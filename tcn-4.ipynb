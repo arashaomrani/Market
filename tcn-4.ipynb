{
 "cells": [
  {
   "cell_type": "code",
   "execution_count": 2,
   "metadata": {},
   "outputs": [
    {
     "data": {
      "text/html": [
       "<script>requirejs.config({paths: { 'plotly': ['https://cdn.plot.ly/plotly-latest.min']},});if(!window.Plotly) {{require(['plotly'],function(plotly) {window.Plotly=plotly;});}}</script>"
      ],
      "text/vnd.plotly.v1+html": [
       "<script>requirejs.config({paths: { 'plotly': ['https://cdn.plot.ly/plotly-latest.min']},});if(!window.Plotly) {{require(['plotly'],function(plotly) {window.Plotly=plotly;});}}</script>"
      ]
     },
     "metadata": {},
     "output_type": "display_data"
    }
   ],
   "source": [
    "from math import sqrt\n",
    "from numpy import concatenate\n",
    "from matplotlib import pyplot\n",
    "import pandas as pd\n",
    "from datetime import datetime\n",
    "from sklearn.preprocessing import MinMaxScaler, StandardScaler\n",
    "from sklearn.preprocessing import normalize\n",
    "from sklearn.preprocessing import LabelEncoder\n",
    "from sklearn.metrics import mean_squared_error\n",
    "from keras.models import Sequential\n",
    "from keras.layers import Dense\n",
    "from keras import optimizers\n",
    "from keras.callbacks import ReduceLROnPlateau\n",
    "from keras.layers import Add, LSTM, Activation, Flatten, Dropout, SimpleRNN, Bidirectional, Conv1D, GRU, Input, BatchNormalization\n",
    "from keras.models import Model\n",
    "import plotly.offline as py\n",
    "import plotly.graph_objs as go\n",
    "import numpy as np\n",
    "import seaborn as sns\n",
    "py.init_notebook_mode(connected=True)\n",
    "from googlefinance.client import get_price_data, get_prices_data, get_prices_time_data\n",
    "import fix_yahoo_finance as yf\n",
    "from keras.preprocessing.sequence import TimeseriesGenerator\n",
    "from keras.callbacks import ReduceLROnPlateau\n",
    "from sklearn.model_selection import train_test_split\n",
    "%matplotlib inline"
   ]
  },
  {
   "cell_type": "code",
   "execution_count": 3,
   "metadata": {},
   "outputs": [],
   "source": [
    "def preprocess(Stock,start_date,open_close,seq_len=20):\n",
    "#     param = {\n",
    "#         'q': Stock, # Stock symbol (ex: \"AAPL\")\n",
    "#         'i': \"86400\", # Interval size in seconds (\"86400\" = 1 day intervals)\n",
    "#         # Stock exchange symbol on which stock is traded (ex: \"NASD\")\n",
    "#          'p':'5Y'# Period (Ex: \"1Y\" = 1 year)\n",
    "#     }\n",
    "#     data = yf.download(Stock,start_date)\n",
    "    data = pd.read_csv(Stock+'.csv')\n",
    "    data['Close'].replace(0, np.nan, inplace=True)\n",
    "    data['Close'].fillna(method='ffill', inplace=True)\n",
    "    values = data[['Open'] + ['High'] + ['Low'] + ['Close']]\n",
    "    values.insert(2,'Volume',data['Volume'])#.rolling(window=50).mean())\n",
    "    values.insert(3,'MA50',data[open_close].rolling(window=50).mean())\n",
    "    values.insert(4,'MA150',data[open_close].rolling(window=150).mean())\n",
    "    values.insert(5, 'EMA20', data[open_close].ewm(span=20, adjust=False).mean())\n",
    "    values.dropna(inplace=True)\n",
    "    values = values.astype('float32')\n",
    "    values = values.values \n",
    "    scaler = MinMaxScaler(feature_range=(0, 1))\n",
    "    scaler.fit(values)\n",
    "    scaled = scaler.transform(values)\n",
    "    data_gen = TimeseriesGenerator(scaled, scaled[:,-1],\n",
    "                               length=seq_len, sampling_rate=1,\n",
    "                               stride=seq_len, batch_size=len(scaled))\n",
    "    X, y = data_gen[0]\n",
    "    trainX, testX, trainy, testy = train_test_split(X[:180], y[:180], test_size=0.001, random_state=42, shuffle=True)\n",
    "    return scaled, X, y, trainX, trainy, testX, testy\n",
    "\n",
    "def tcn(h,filters=400, kernel_size=5, padding='causal', activation='relu', dilation_rate=1):\n",
    "    #main = BatchNormalization()(h)\n",
    "    main = h\n",
    "    for i in range(2):\n",
    "        main = Conv1D(filters=filters,kernel_size=kernel_size,padding=padding, dilation_rate=dilation_rate)(main)\n",
    "        #main = BatchNormalization()(main)\n",
    "        main = Activation('relu')(main)\n",
    "        main = Dropout(0.25)(main)\n",
    "    side_path = Conv1D(filters=filters,kernel_size=1, padding='same')(h)\n",
    "    #side_path = BatchNormalization()(side_path)\n",
    "    return Add()([main,side_path])\n",
    "\n",
    "def train(train_X, train_y, seq_len):\n",
    "    Inp = Input(shape=(seq_len,8))\n",
    "    inp = Inp\n",
    "    D = [1,2,4]\n",
    "    for i in range(3):\n",
    "        inp=tcn(inp,dilation_rate=D[i])\n",
    "        #inp = BatchNormalization()(inp)\n",
    "        #inp = Activation('relu')(inp)\n",
    "    inp=Flatten()(inp)\n",
    "    out=Dense(1)(inp)\n",
    "    model = Model(Inp,out)\n",
    "    ad = optimizers.Adam(lr=0.0002)\n",
    "    reduce_lr = ReduceLROnPlateau(monitor='val_loss', factor=0.1,\n",
    "                                  patience=5, min_lr=1e-8)\n",
    "    model.compile(loss='mae', optimizer=ad)\n",
    "    history = model.fit(train_X, train_y, epochs=500, batch_size=100, validation_split=0.1, verbose=0, shuffle=True)\n",
    "    return history, model"
   ]
  },
  {
   "cell_type": "code",
   "execution_count": 8,
   "metadata": {
    "scrolled": true
   },
   "outputs": [
    {
     "name": "stderr",
     "output_type": "stream",
     "text": [
      "C:\\Users\\aalahgholipour160413\\AppData\\Local\\Continuum\\anaconda3\\lib\\site-packages\\ipykernel_launcher.py:17: SettingWithCopyWarning:\n",
      "\n",
      "\n",
      "A value is trying to be set on a copy of a slice from a DataFrame\n",
      "\n",
      "See the caveats in the documentation: http://pandas.pydata.org/pandas-docs/stable/indexing.html#indexing-view-versus-copy\n",
      "\n"
     ]
    },
    {
     "name": "stdout",
     "output_type": "stream",
     "text": [
      "OI 0.8846153846153846\n",
      "NI 0.9615384615384616\n",
      "UPS 0.7307692307692307\n",
      "HSIC 0.9615384615384616\n",
      "CCE 0.8076923076923077\n",
      "IBM 0.7307692307692307\n",
      "MAS 0.8076923076923077\n",
      "EFX 0.9230769230769231\n",
      "AAPL 0.8076923076923077\n",
      "MAC 0.8846153846153846\n",
      "WDC 0.8846153846153846\n"
     ]
    }
   ],
   "source": [
    "stocks=['OI','NI','UPS','HSIC','CCE','IBM','MAS','EFX','AAPL','MAC','WDC']\n",
    "#stocks=['EFX','AAPL']\n",
    "accuracy=pd.DataFrame()\n",
    "df=pd.DataFrame()\n",
    "train_X=np.empty((0,20,8))\n",
    "test_X=np.empty((0,20,8))\n",
    "train_y=np.empty((0))\n",
    "test_y=np.empty((0))\n",
    "for Stock in stocks:\n",
    "    scaled, X, y, train_X, train_y, test_X, test_y = preprocess(Stock,'2001-06-27','Close',20)\n",
    "    history, model = train(train_X,train_y, 20)\n",
    "    pred = model.predict([X[180:]])\n",
    "    diff1=np.concatenate((np.ediff1d(y[180:]).reshape(len(y[180:])-1,1),np.ediff1d(pred[:,0]).reshape(len(pred[:])-1,1)),axis=1)\n",
    "    mul = np.multiply(diff1[:,0],diff1[:,1])\n",
    "    model_accuracy = len(mul[mul>=0])/len(mul)\n",
    "    print(Stock, model_accuracy)\n",
    "    accuracy = accuracy.append(pd.DataFrame([[Stock, model_accuracy]]),ignore_index=True)\n",
    "    model.save_weights(Stock+'.h5')\n",
    "accuracy.columns=['Stock','accuracy']"
   ]
  },
  {
   "cell_type": "code",
   "execution_count": 14,
   "metadata": {},
   "outputs": [
    {
     "data": {
      "text/html": [
       "<div>\n",
       "<style scoped>\n",
       "    .dataframe tbody tr th:only-of-type {\n",
       "        vertical-align: middle;\n",
       "    }\n",
       "\n",
       "    .dataframe tbody tr th {\n",
       "        vertical-align: top;\n",
       "    }\n",
       "\n",
       "    .dataframe thead th {\n",
       "        text-align: right;\n",
       "    }\n",
       "</style>\n",
       "<table border=\"1\" class=\"dataframe\">\n",
       "  <thead>\n",
       "    <tr style=\"text-align: right;\">\n",
       "      <th></th>\n",
       "      <th>Stock</th>\n",
       "      <th>accuracy</th>\n",
       "    </tr>\n",
       "  </thead>\n",
       "  <tbody>\n",
       "    <tr>\n",
       "      <th>1</th>\n",
       "      <td>NI</td>\n",
       "      <td>0.961538</td>\n",
       "    </tr>\n",
       "    <tr>\n",
       "      <th>3</th>\n",
       "      <td>HSIC</td>\n",
       "      <td>0.961538</td>\n",
       "    </tr>\n",
       "    <tr>\n",
       "      <th>7</th>\n",
       "      <td>EFX</td>\n",
       "      <td>0.923077</td>\n",
       "    </tr>\n",
       "    <tr>\n",
       "      <th>0</th>\n",
       "      <td>OI</td>\n",
       "      <td>0.884615</td>\n",
       "    </tr>\n",
       "    <tr>\n",
       "      <th>9</th>\n",
       "      <td>MAC</td>\n",
       "      <td>0.884615</td>\n",
       "    </tr>\n",
       "    <tr>\n",
       "      <th>10</th>\n",
       "      <td>WDC</td>\n",
       "      <td>0.884615</td>\n",
       "    </tr>\n",
       "    <tr>\n",
       "      <th>4</th>\n",
       "      <td>CCE</td>\n",
       "      <td>0.807692</td>\n",
       "    </tr>\n",
       "    <tr>\n",
       "      <th>6</th>\n",
       "      <td>MAS</td>\n",
       "      <td>0.807692</td>\n",
       "    </tr>\n",
       "    <tr>\n",
       "      <th>8</th>\n",
       "      <td>AAPL</td>\n",
       "      <td>0.807692</td>\n",
       "    </tr>\n",
       "    <tr>\n",
       "      <th>2</th>\n",
       "      <td>UPS</td>\n",
       "      <td>0.730769</td>\n",
       "    </tr>\n",
       "    <tr>\n",
       "      <th>5</th>\n",
       "      <td>IBM</td>\n",
       "      <td>0.730769</td>\n",
       "    </tr>\n",
       "  </tbody>\n",
       "</table>\n",
       "</div>"
      ],
      "text/plain": [
       "   Stock  accuracy\n",
       "1     NI  0.961538\n",
       "3   HSIC  0.961538\n",
       "7    EFX  0.923077\n",
       "0     OI  0.884615\n",
       "9    MAC  0.884615\n",
       "10   WDC  0.884615\n",
       "4    CCE  0.807692\n",
       "6    MAS  0.807692\n",
       "8   AAPL  0.807692\n",
       "2    UPS  0.730769\n",
       "5    IBM  0.730769"
      ]
     },
     "execution_count": 14,
     "metadata": {},
     "output_type": "execute_result"
    }
   ],
   "source": [
    "accuracy.sort_values(by='accuracy',ascending=False)"
   ]
  },
  {
   "cell_type": "code",
   "execution_count": 4,
   "metadata": {},
   "outputs": [
    {
     "data": {
      "image/png": "[encoded data removed]",
      "text/plain": [
       "<Figure size 432x288 with 1 Axes>"
      ]
     },
     "metadata": {},
     "output_type": "display_data"
    }
   ],
   "source": [
    "pyplot.plot(history.history['loss'], label='multi_train')\n",
    "pyplot.plot(history.history['val_loss'], label='multi_test')\n",
    "pyplot.legend()\n",
    "pyplot.yscale('log')\n",
    "pyplot.show()"
   ]
  },
  {
   "cell_type": "code",
   "execution_count": 4,
   "metadata": {},
   "outputs": [],
   "source": [
    "def create_model():\n",
    "    Inp = Input(shape=(20,8))\n",
    "    inp = Inp\n",
    "    D = [1,2,4]\n",
    "    for i in range(3):\n",
    "        inp=tcn(inp,dilation_rate=D[i])\n",
    "        #inp = BatchNormalization()(inp)\n",
    "        #inp = Activation('relu')(inp)\n",
    "    inp=Flatten()(inp)\n",
    "    out=Dense(1)(inp)\n",
    "    model = Model(Inp,out)\n",
    "    ad = optimizers.Adam(lr=0.0002)\n",
    "    model.compile(loss='mae', optimizer=ad)\n",
    "    return model"
   ]
  },
  {
   "cell_type": "code",
   "execution_count": 5,
   "metadata": {},
   "outputs": [
    {
     "name": "stderr",
     "output_type": "stream",
     "text": [
      "C:\\Users\\aalahgholipour160413\\AppData\\Local\\Continuum\\anaconda3\\lib\\site-packages\\ipykernel_launcher.py:17: SettingWithCopyWarning:\n",
      "\n",
      "\n",
      "A value is trying to be set on a copy of a slice from a DataFrame\n",
      "\n",
      "See the caveats in the documentation: http://pandas.pydata.org/pandas-docs/stable/indexing.html#indexing-view-versus-copy\n",
      "\n"
     ]
    },
    {
     "name": "stdout",
     "output_type": "stream",
     "text": [
      "0.8076923076923077\n"
     ]
    },
    {
     "data": {
      "image/png": "[encoded data removed]",
      "text/plain": [
       "<Figure size 432x288 with 1 Axes>"
      ]
     },
     "metadata": {},
     "output_type": "display_data"
    }
   ],
   "source": [
    "stock='AAPL'\n",
    "model=create_model()\n",
    "model.load_weights(stock+'.h5')\n",
    "scaled, X, y, train_X, train_y, test_X, test_y = preprocess(stock,'2001-06-27','Close',20)\n",
    "pred = model.predict([X[180:]])\n",
    "diff1=np.concatenate((np.ediff1d(y[180:]).reshape(len(y[180:])-1,1),np.ediff1d(pred[:,0]).reshape(len(pred[:])-1,1)),axis=1)\n",
    "mul = np.multiply(diff1[:,0],diff1[:,1])\n",
    "model_accuracy = len(mul[mul>=0])/len(mul)\n",
    "print(model_accuracy)\n",
    "pyplot.plot(pred[-12:,:].reshape(12,1),label='predict')\n",
    "pyplot.plot(y[-12:].reshape(12,1))\n",
    "pyplot.legend()\n",
    "pyplot.show()\n"
   ]
  },
  {
   "cell_type": "code",
   "execution_count": 9,
   "metadata": {},
   "outputs": [
    {
     "data": {
      "text/plain": [
       "0.9886555636012552"
      ]
     },
     "execution_count": 9,
     "metadata": {},
     "output_type": "execute_result"
    }
   ],
   "source": [
    "data_gen = TimeseriesGenerator(scaled, scaled[:,-1],\n",
    "                               length=20, sampling_rate=1,\n",
    "                               stride=1, batch_size=len(scaled),shuffle=True)\n",
    "X2, y2 = data_gen[0]\n",
    "pred2 = model.predict([X2[:]])\n",
    "diff2=np.concatenate((np.ediff1d(y2[:]).reshape(len(y2[:])-1,1),np.ediff1d(pred2[:,0]).reshape(len(pred2[:])-1,1)),axis=1)\n",
    "mul2 = np.multiply(diff2[:,0],diff2[:,1])\n",
    "model_accuracy2 = len(mul2[mul2>=0])/len(mul2)\n",
    "model_accuracy2"
   ]
  },
  {
   "cell_type": "code",
   "execution_count": 7,
   "metadata": {},
   "outputs": [
    {
     "data": {
      "image/png": "[encoded data removed]",
      "text/plain": [
       "<Figure size 432x288 with 1 Axes>"
      ]
     },
     "metadata": {},
     "output_type": "display_data"
    }
   ],
   "source": [
    "pyplot.plot(np.append(scaled[-10:,-1],model.predict(scaled[-20:].reshape(1,20,8))))\n",
    "pyplot.show()"
   ]
  },
  {
   "cell_type": "code",
   "execution_count": 8,
   "metadata": {},
   "outputs": [
    {
     "data": {
      "image/png": "[encoded data removed]",
      "text/plain": [
       "<Figure size 432x288 with 1 Axes>"
      ]
     },
     "metadata": {},
     "output_type": "display_data"
    }
   ],
   "source": [
    "pyplot.plot(np.append(scaled[-14:-4,-1],model.predict(scaled[-24:-4].reshape(1,20,8))))\n",
    "pyplot.show()"
   ]
  },
  {
   "cell_type": "code",
   "execution_count": null,
   "metadata": {},
   "outputs": [],
   "source": []
  }
 ],
 "metadata": {
  "kernelspec": {
   "display_name": "Python 3",
   "language": "python",
   "name": "python3"
  },
  "language_info": {
   "codemirror_mode": {
    "name": "ipython",
    "version": 3
   },
   "file_extension": ".py",
   "mimetype": "text/x-python",
   "name": "python",
   "nbconvert_exporter": "python",
   "pygments_lexer": "ipython3",
   "version": "3.6.5"
  }
 },
 "nbformat": 4,
 "nbformat_minor": 2
}
