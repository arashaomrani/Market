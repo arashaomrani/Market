{
 "cells": [
  {
   "cell_type": "code",
   "execution_count": 1,
   "metadata": {},
   "outputs": [
    {
     "name": "stderr",
     "output_type": "stream",
     "text": [
      "C:\\Users\\alahghol\\AppData\\Local\\Continuum\\anaconda3\\lib\\site-packages\\h5py\\__init__.py:36: FutureWarning: Conversion of the second argument of issubdtype from `float` to `np.floating` is deprecated. In future, it will be treated as `np.float64 == np.dtype(float).type`.\n",
      "  from ._conv import register_converters as _register_converters\n",
      "Using TensorFlow backend.\n",
      "C:\\Users\\alahghol\\AppData\\Local\\Continuum\\anaconda3\\lib\\site-packages\\sklearn\\ensemble\\weight_boosting.py:29: DeprecationWarning: numpy.core.umath_tests is an internal NumPy module and should not be imported. It will be removed in a future NumPy release.\n",
      "  from numpy.core.umath_tests import inner1d\n"
     ]
    }
   ],
   "source": [
    "from math import sqrt\n",
    "from numpy import concatenate\n",
    "from matplotlib import pyplot\n",
    "import pandas as pd\n",
    "from datetime import datetime\n",
    "from sklearn.preprocessing import MinMaxScaler, StandardScaler, scale\n",
    "from sklearn.preprocessing import normalize\n",
    "from sklearn.preprocessing import LabelEncoder\n",
    "from sklearn.metrics import mean_squared_error\n",
    "from keras.models import Sequential\n",
    "from keras.layers import Dense\n",
    "from keras import optimizers\n",
    "from keras.callbacks import ReduceLROnPlateau\n",
    "from keras.layers import Add, LSTM, Activation, Flatten, Dropout, Lambda, Conv1D, Input, BatchNormalization\n",
    "from keras.models import Model\n",
    "import numpy as np\n",
    "from keras.utils import to_categorical\n",
    "import fix_yahoo_finance as yf\n",
    "%matplotlib inline\n",
    "from xgboost import XGBClassifier\n",
    "from sklearn.metrics import accuracy_score\n",
    "from sklearn.utils import shuffle\n",
    "from sklearn.ensemble import RandomForestClassifier\n",
    "from sklearn.neighbors import KNeighborsClassifier"
   ]
  },
  {
   "cell_type": "code",
   "execution_count": 16,
   "metadata": {},
   "outputs": [
    {
     "data": {
      "text/html": [
       "<div>\n",
       "<style scoped>\n",
       "    .dataframe tbody tr th:only-of-type {\n",
       "        vertical-align: middle;\n",
       "    }\n",
       "\n",
       "    .dataframe tbody tr th {\n",
       "        vertical-align: top;\n",
       "    }\n",
       "\n",
       "    .dataframe thead th {\n",
       "        text-align: right;\n",
       "    }\n",
       "</style>\n",
       "<table border=\"1\" class=\"dataframe\">\n",
       "  <thead>\n",
       "    <tr style=\"text-align: right;\">\n",
       "      <th></th>\n",
       "      <th>Date</th>\n",
       "      <th>Open</th>\n",
       "      <th>High</th>\n",
       "      <th>Low</th>\n",
       "      <th>Close</th>\n",
       "      <th>Adj Close</th>\n",
       "      <th>Volume</th>\n",
       "    </tr>\n",
       "  </thead>\n",
       "  <tbody>\n",
       "    <tr>\n",
       "      <th>4350</th>\n",
       "      <td>2019-01-18</td>\n",
       "      <td>5.92</td>\n",
       "      <td>5.98</td>\n",
       "      <td>5.88</td>\n",
       "      <td>5.95</td>\n",
       "      <td>5.95</td>\n",
       "      <td>4240200</td>\n",
       "    </tr>\n",
       "    <tr>\n",
       "      <th>4351</th>\n",
       "      <td>2019-01-22</td>\n",
       "      <td>5.88</td>\n",
       "      <td>5.91</td>\n",
       "      <td>5.86</td>\n",
       "      <td>5.90</td>\n",
       "      <td>5.90</td>\n",
       "      <td>4892000</td>\n",
       "    </tr>\n",
       "    <tr>\n",
       "      <th>4352</th>\n",
       "      <td>2019-01-23</td>\n",
       "      <td>5.97</td>\n",
       "      <td>6.00</td>\n",
       "      <td>5.94</td>\n",
       "      <td>5.99</td>\n",
       "      <td>5.99</td>\n",
       "      <td>3911800</td>\n",
       "    </tr>\n",
       "    <tr>\n",
       "      <th>4353</th>\n",
       "      <td>2019-01-24</td>\n",
       "      <td>5.93</td>\n",
       "      <td>5.95</td>\n",
       "      <td>5.87</td>\n",
       "      <td>5.93</td>\n",
       "      <td>5.93</td>\n",
       "      <td>3311700</td>\n",
       "    </tr>\n",
       "    <tr>\n",
       "      <th>4354</th>\n",
       "      <td>2019-01-25</td>\n",
       "      <td>5.99</td>\n",
       "      <td>6.11</td>\n",
       "      <td>5.99</td>\n",
       "      <td>6.10</td>\n",
       "      <td>6.10</td>\n",
       "      <td>4431700</td>\n",
       "    </tr>\n",
       "  </tbody>\n",
       "</table>\n",
       "</div>"
      ],
      "text/plain": [
       "            Date  Open  High   Low  Close  Adj Close   Volume\n",
       "4350  2019-01-18  5.92  5.98  5.88   5.95       5.95  4240200\n",
       "4351  2019-01-22  5.88  5.91  5.86   5.90       5.90  4892000\n",
       "4352  2019-01-23  5.97  6.00  5.94   5.99       5.99  3911800\n",
       "4353  2019-01-24  5.93  5.95  5.87   5.93       5.93  3311700\n",
       "4354  2019-01-25  5.99  6.11  5.99   6.10       6.10  4431700"
      ]
     },
     "execution_count": 16,
     "metadata": {},
     "output_type": "execute_result"
    }
   ],
   "source": [
    "Stock=\"BBVA\"\n",
    "#df = yf.download(Stock,'2001-10-06')\n",
    "#df.to_csv(Stock+'.csv')\n",
    "df=pd.read_csv(Stock+'.csv')\n",
    "df.tail()"
   ]
  },
  {
   "cell_type": "code",
   "execution_count": 17,
   "metadata": {},
   "outputs": [
    {
     "name": "stderr",
     "output_type": "stream",
     "text": [
      "C:\\Users\\alahghol\\AppData\\Local\\Continuum\\anaconda3\\lib\\site-packages\\ipykernel_launcher.py:5: SettingWithCopyWarning: \n",
      "A value is trying to be set on a copy of a slice from a DataFrame\n",
      "\n",
      "See the caveats in the documentation: http://pandas.pydata.org/pandas-docs/stable/indexing.html#indexing-view-versus-copy\n",
      "  \"\"\"\n"
     ]
    },
    {
     "name": "stdout",
     "output_type": "stream",
     "text": [
      "(4107, 15, 5) (4107,) (20, 15, 5) (20,)\n"
     ]
    }
   ],
   "source": [
    "data=df\n",
    "data['Close'].replace(0, np.nan, inplace=True)\n",
    "data['Close'].fillna(method='ffill', inplace=True)\n",
    "values = data[['Open'] + ['High'] + ['Low'] + ['Close'] + ['Volume']]\n",
    "values.dropna(inplace=True)\n",
    "values = values.astype('float32')\n",
    "values=values[(values['Open']!=0)&(values['High']!=0)&(values['Low']!=0)&(values['Close']!=0)&(values['Volume']!=0)]\n",
    "scaled = (values.values[1:,:]/values.values[:-1,:])\n",
    "scaled = pd.DataFrame(scaled)\n",
    "all_inf_or_nan = scaled.isin([np.inf, -np.inf, np.nan]).all(axis='columns')\n",
    "scaled = scaled[~all_inf_or_nan]\n",
    "scaled = scaled.values\n",
    "\n",
    "end=20\n",
    "seq_len=15\n",
    "Y = values.iloc[1:,3] - values.iloc[1:,0]\n",
    "X = scaled[-(seq_len+1):-1,:].reshape(1,seq_len,5)\n",
    "Y = np.array(Y)\n",
    "y = Y[-1]\n",
    "for i in range(1,4127):\n",
    "    X = np.append(X, scaled[-(seq_len+1)-i:-1-i,:].reshape(1,seq_len,5),axis=0)\n",
    "    #y = np.append(y, scaled[-1-i,3])\n",
    "    y = np.append(y, Y[-1-i])\n",
    "X = X[::-1,:,:]\n",
    "y = y[::-1]\n",
    "y1 = np.empty([len(y)], dtype=np.float32)\n",
    "for i in range(len(y)):\n",
    "    if y[i] >= 0.0:\n",
    "        y1[i] = 1.0\n",
    "    else:\n",
    "        y1[i] = 0.0\n",
    "#y1=to_categorical(y1)\n",
    "train_X = X[:-end]\n",
    "train_y = y1[:-end]\n",
    "train_X, train_y = shuffle(train_X, train_y, random_state = 128)\n",
    "test_X = X[-end:]\n",
    "test_y = y1[-end:]\n",
    "print(train_X.shape, train_y.shape, test_X.shape, test_y.shape)"
   ]
  },
  {
   "cell_type": "code",
   "execution_count": 21,
   "metadata": {},
   "outputs": [
    {
     "name": "stdout",
     "output_type": "stream",
     "text": [
      "Accuracy: 75.00%\n"
     ]
    },
    {
     "name": "stderr",
     "output_type": "stream",
     "text": [
      "C:\\Users\\alahghol\\AppData\\Local\\Continuum\\anaconda3\\lib\\site-packages\\sklearn\\preprocessing\\label.py:151: DeprecationWarning: The truth value of an empty array is ambiguous. Returning False, but in future this will result in an error. Use `array.size > 0` to check that an array is not empty.\n",
      "  if diff:\n"
     ]
    }
   ],
   "source": [
    "model = XGBClassifier(max_depth=3, n_estimators=100)\n",
    "model.fit(train_X.reshape(4107,seq_len*5), train_y)\n",
    "pred_y = model.predict(test_X.reshape(20,seq_len*5))\n",
    "accuracy = accuracy_score(test_y,pred_y)\n",
    "print(\"Accuracy: %.2f%%\" % (accuracy * 100.0))"
   ]
  },
  {
   "cell_type": "code",
   "execution_count": 18,
   "metadata": {},
   "outputs": [
    {
     "data": {
      "text/plain": [
       "0.85"
      ]
     },
     "execution_count": 18,
     "metadata": {},
     "output_type": "execute_result"
    }
   ],
   "source": [
    "#clf = RandomForestClassifier(n_estimators=250, max_depth=80,random_state=0)\n",
    "#clf.fit(train_X.reshape(4265,75), train_y)\n",
    "N = KNeighborsClassifier(n_neighbors=350)\n",
    "N.fit(train_X.reshape(4107,seq_len*5), train_y)\n",
    "N.score(test_X.reshape(20,seq_len*5),test_y)"
   ]
  },
  {
   "cell_type": "code",
   "execution_count": 23,
   "metadata": {},
   "outputs": [
    {
     "data": {
      "text/plain": [
       "array([1., 1., 1., 1., 1., 1., 1., 1., 1., 1., 1., 1., 1., 1., 1., 1., 1.,\n",
       "       1., 1., 1.], dtype=float32)"
      ]
     },
     "execution_count": 23,
     "metadata": {},
     "output_type": "execute_result"
    }
   ],
   "source": [
    "N.predict(test_X.reshape(20,seq_len*5))"
   ]
  },
  {
   "cell_type": "code",
   "execution_count": 20,
   "metadata": {},
   "outputs": [
    {
     "data": {
      "text/plain": [
       "array([1., 0., 1., 1., 1., 1., 1., 0., 0., 1., 1., 1., 1., 1., 1., 1., 1.,\n",
       "       1., 1., 1.], dtype=float32)"
      ]
     },
     "execution_count": 20,
     "metadata": {},
     "output_type": "execute_result"
    }
   ],
   "source": [
    "test_y"
   ]
  },
  {
   "cell_type": "code",
   "execution_count": null,
   "metadata": {},
   "outputs": [],
   "source": []
  }
 ],
 "metadata": {
  "kernelspec": {
   "display_name": "Python 3",
   "language": "python",
   "name": "python3"
  },
  "language_info": {
   "codemirror_mode": {
    "name": "ipython",
    "version": 3
   },
   "file_extension": ".py",
   "mimetype": "text/x-python",
   "name": "python",
   "nbconvert_exporter": "python",
   "pygments_lexer": "ipython3",
   "version": "3.6.4"
  }
 },
 "nbformat": 4,
 "nbformat_minor": 2
}
