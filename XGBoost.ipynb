{
 "cells": [
  {
   "cell_type": "code",
   "execution_count": 28,
   "metadata": {},
   "outputs": [
    {
     "name": "stderr",
     "output_type": "stream",
     "text": [
      "C:\\Users\\alahghol\\AppData\\Local\\Continuum\\anaconda3\\lib\\site-packages\\sklearn\\ensemble\\weight_boosting.py:29: DeprecationWarning: numpy.core.umath_tests is an internal NumPy module and should not be imported. It will be removed in a future NumPy release.\n",
      "  from numpy.core.umath_tests import inner1d\n"
     ]
    }
   ],
   "source": [
    "from math import sqrt\n",
    "from numpy import concatenate\n",
    "from matplotlib import pyplot\n",
    "import pandas as pd\n",
    "from datetime import datetime\n",
    "from sklearn.preprocessing import MinMaxScaler, StandardScaler, scale\n",
    "from sklearn.preprocessing import normalize\n",
    "from sklearn.preprocessing import LabelEncoder\n",
    "from sklearn.metrics import mean_squared_error\n",
    "from keras.models import Sequential\n",
    "from keras.layers import Dense\n",
    "from keras import optimizers\n",
    "from keras.callbacks import ReduceLROnPlateau\n",
    "from keras.layers import Add, LSTM, Activation, Flatten, Dropout, Lambda, Conv1D, Input, BatchNormalization\n",
    "from keras.models import Model\n",
    "import numpy as np\n",
    "from keras.utils import to_categorical\n",
    "import fix_yahoo_finance as yf\n",
    "%matplotlib inline\n",
    "from xgboost import XGBClassifier\n",
    "from sklearn.metrics import accuracy_score\n",
    "from sklearn.utils import shuffle\n",
    "from sklearn.ensemble import RandomForestClassifier\n",
    "from sklearn.neighbors import KNeighborsClassifier"
   ]
  },
  {
   "cell_type": "code",
   "execution_count": 25,
   "metadata": {},
   "outputs": [
    {
     "data": {
      "text/html": [
       "<div>\n",
       "<style scoped>\n",
       "    .dataframe tbody tr th:only-of-type {\n",
       "        vertical-align: middle;\n",
       "    }\n",
       "\n",
       "    .dataframe tbody tr th {\n",
       "        vertical-align: top;\n",
       "    }\n",
       "\n",
       "    .dataframe thead th {\n",
       "        text-align: right;\n",
       "    }\n",
       "</style>\n",
       "<table border=\"1\" class=\"dataframe\">\n",
       "  <thead>\n",
       "    <tr style=\"text-align: right;\">\n",
       "      <th></th>\n",
       "      <th>Date</th>\n",
       "      <th>Open</th>\n",
       "      <th>High</th>\n",
       "      <th>Low</th>\n",
       "      <th>Close</th>\n",
       "      <th>Adj Close</th>\n",
       "      <th>Volume</th>\n",
       "    </tr>\n",
       "  </thead>\n",
       "  <tbody>\n",
       "    <tr>\n",
       "      <th>4346</th>\n",
       "      <td>2019-01-14</td>\n",
       "      <td>32.369999</td>\n",
       "      <td>32.700001</td>\n",
       "      <td>32.180000</td>\n",
       "      <td>32.439999</td>\n",
       "      <td>32.439999</td>\n",
       "      <td>3099200</td>\n",
       "    </tr>\n",
       "    <tr>\n",
       "      <th>4347</th>\n",
       "      <td>2019-01-15</td>\n",
       "      <td>31.549999</td>\n",
       "      <td>31.790001</td>\n",
       "      <td>30.889999</td>\n",
       "      <td>31.450001</td>\n",
       "      <td>31.450001</td>\n",
       "      <td>6602400</td>\n",
       "    </tr>\n",
       "    <tr>\n",
       "      <th>4348</th>\n",
       "      <td>2019-01-16</td>\n",
       "      <td>31.340000</td>\n",
       "      <td>31.709999</td>\n",
       "      <td>30.680000</td>\n",
       "      <td>30.770000</td>\n",
       "      <td>30.770000</td>\n",
       "      <td>5817400</td>\n",
       "    </tr>\n",
       "    <tr>\n",
       "      <th>4349</th>\n",
       "      <td>2019-01-17</td>\n",
       "      <td>30.549999</td>\n",
       "      <td>31.709999</td>\n",
       "      <td>30.480000</td>\n",
       "      <td>31.610001</td>\n",
       "      <td>31.610001</td>\n",
       "      <td>3929200</td>\n",
       "    </tr>\n",
       "    <tr>\n",
       "      <th>4350</th>\n",
       "      <td>2019-01-18</td>\n",
       "      <td>31.840000</td>\n",
       "      <td>32.549999</td>\n",
       "      <td>31.809999</td>\n",
       "      <td>32.220001</td>\n",
       "      <td>32.220001</td>\n",
       "      <td>5562000</td>\n",
       "    </tr>\n",
       "  </tbody>\n",
       "</table>\n",
       "</div>"
      ],
      "text/plain": [
       "            Date       Open       High        Low      Close  Adj Close  \\\n",
       "4346  2019-01-14  32.369999  32.700001  32.180000  32.439999  32.439999   \n",
       "4347  2019-01-15  31.549999  31.790001  30.889999  31.450001  31.450001   \n",
       "4348  2019-01-16  31.340000  31.709999  30.680000  30.770000  30.770000   \n",
       "4349  2019-01-17  30.549999  31.709999  30.480000  31.610001  31.610001   \n",
       "4350  2019-01-18  31.840000  32.549999  31.809999  32.220001  32.220001   \n",
       "\n",
       "       Volume  \n",
       "4346  3099200  \n",
       "4347  6602400  \n",
       "4348  5817400  \n",
       "4349  3929200  \n",
       "4350  5562000  "
      ]
     },
     "execution_count": 25,
     "metadata": {},
     "output_type": "execute_result"
    }
   ],
   "source": [
    "Stock=\"MAS\"\n",
    "#df = yf.download(Stock,'2001-10-06')\n",
    "#df.to_csv(Stock+'.csv')\n",
    "df=pd.read_csv(Stock+'.csv')\n",
    "df.tail()"
   ]
  },
  {
   "cell_type": "code",
   "execution_count": 48,
   "metadata": {},
   "outputs": [
    {
     "name": "stderr",
     "output_type": "stream",
     "text": [
      "C:\\Users\\alahghol\\AppData\\Local\\Continuum\\anaconda3\\lib\\site-packages\\ipykernel_launcher.py:5: SettingWithCopyWarning: \n",
      "A value is trying to be set on a copy of a slice from a DataFrame\n",
      "\n",
      "See the caveats in the documentation: http://pandas.pydata.org/pandas-docs/stable/indexing.html#indexing-view-versus-copy\n",
      "  \"\"\"\n"
     ]
    },
    {
     "name": "stdout",
     "output_type": "stream",
     "text": [
      "(4107, 10, 5) (4107,) (20, 10, 5) (20,)\n"
     ]
    }
   ],
   "source": [
    "data=df\n",
    "data['Close'].replace(0, np.nan, inplace=True)\n",
    "data['Close'].fillna(method='ffill', inplace=True)\n",
    "values = data[['Open'] + ['High'] + ['Low'] + ['Close'] + ['Volume']]\n",
    "values.dropna(inplace=True)\n",
    "values = values.astype('float32')\n",
    "values=values[(values['Open']!=0)&(values['High']!=0)&(values['Low']!=0)&(values['Close']!=0)&(values['Volume']!=0)]\n",
    "scaled = (values.values[1:,:]/values.values[:-1,:])\n",
    "scaled = pd.DataFrame(scaled)\n",
    "all_inf_or_nan = scaled.isin([np.inf, -np.inf, np.nan]).all(axis='columns')\n",
    "scaled = scaled[~all_inf_or_nan]\n",
    "scaled = scaled.values\n",
    "\n",
    "end=20\n",
    "seq_len=10\n",
    "Y = values.iloc[1:,3] - values.iloc[1:,0]\n",
    "X = scaled[-(seq_len+1):-1,:].reshape(1,seq_len,5)\n",
    "Y = np.array(Y)\n",
    "y = Y[-1]\n",
    "for i in range(1,4127):\n",
    "    X = np.append(X, scaled[-(seq_len+1)-i:-1-i,:].reshape(1,seq_len,5),axis=0)\n",
    "    #y = np.append(y, scaled[-1-i,3])\n",
    "    y = np.append(y, Y[-1-i])\n",
    "X = X[::-1,:,:]\n",
    "y = y[::-1]\n",
    "y1 = np.empty([len(y)], dtype=np.float32)\n",
    "for i in range(len(y)):\n",
    "    if y[i] >= 0.0:\n",
    "        y1[i] = 1.0\n",
    "    else:\n",
    "        y1[i] = 0.0\n",
    "#y1=to_categorical(y1)\n",
    "train_X = X[:-end]\n",
    "train_y = y1[:-end]\n",
    "train_X, train_y = shuffle(train_X, train_y, random_state = 128)\n",
    "test_X = X[-end:]\n",
    "test_y = y1[-end:]\n",
    "print(train_X.shape, train_y.shape, test_X.shape, test_y.shape)"
   ]
  },
  {
   "cell_type": "code",
   "execution_count": 47,
   "metadata": {},
   "outputs": [
    {
     "name": "stdout",
     "output_type": "stream",
     "text": [
      "Accuracy: 20.00%\n"
     ]
    },
    {
     "name": "stderr",
     "output_type": "stream",
     "text": [
      "C:\\Users\\alahghol\\AppData\\Local\\Continuum\\anaconda3\\lib\\site-packages\\sklearn\\preprocessing\\label.py:151: DeprecationWarning: The truth value of an empty array is ambiguous. Returning False, but in future this will result in an error. Use `array.size > 0` to check that an array is not empty.\n",
      "  if diff:\n"
     ]
    }
   ],
   "source": [
    "model = XGBClassifier(max_depth=3, n_estimators=100)\n",
    "model.fit(train_X.reshape(4107,seq_len*5), train_y)\n",
    "pred_y = model.predict(test_X.reshape(20,seq_len*5))\n",
    "accuracy = accuracy_score(test_y,pred_y)\n",
    "print(\"Accuracy: %.2f%%\" % (accuracy * 100.0))"
   ]
  },
  {
   "cell_type": "code",
   "execution_count": 49,
   "metadata": {},
   "outputs": [
    {
     "data": {
      "text/plain": [
       "0.7"
      ]
     },
     "execution_count": 49,
     "metadata": {},
     "output_type": "execute_result"
    }
   ],
   "source": [
    "#clf = RandomForestClassifier(n_estimators=250, max_depth=80,random_state=0)\n",
    "#clf.fit(train_X.reshape(4265,75), train_y)\n",
    "N = KNeighborsClassifier(n_neighbors=685)\n",
    "N.fit(train_X.reshape(4107,seq_len*5), train_y)\n",
    "N.score(test_X.reshape(20,seq_len*5),test_y)"
   ]
  },
  {
   "cell_type": "code",
   "execution_count": null,
   "metadata": {},
   "outputs": [],
   "source": []
  }
 ],
 "metadata": {
  "kernelspec": {
   "display_name": "Python 3",
   "language": "python",
   "name": "python3"
  },
  "language_info": {
   "codemirror_mode": {
    "name": "ipython",
    "version": 3
   },
   "file_extension": ".py",
   "mimetype": "text/x-python",
   "name": "python",
   "nbconvert_exporter": "python",
   "pygments_lexer": "ipython3",
   "version": "3.6.4"
  }
 },
 "nbformat": 4,
 "nbformat_minor": 2
}
